{
 "cells": [
  {
   "cell_type": "code",
   "execution_count": 4,
   "metadata": {},
   "outputs": [
    {
     "ename": "NameError",
     "evalue": "name 'X_train' is not defined",
     "output_type": "error",
     "traceback": [
      "\u001b[1;31m---------------------------------------------------------------------------\u001b[0m",
      "\u001b[1;31mNameError\u001b[0m                                 Traceback (most recent call last)",
      "Cell \u001b[1;32mIn[4], line 30\u001b[0m\n\u001b[0;32m     27\u001b[0m model\u001b[39m.\u001b[39mcompile(optimizer\u001b[39m=\u001b[39m\u001b[39m'\u001b[39m\u001b[39madam\u001b[39m\u001b[39m'\u001b[39m, loss\u001b[39m=\u001b[39m\u001b[39m'\u001b[39m\u001b[39mcategorical_crossentropy\u001b[39m\u001b[39m'\u001b[39m, metrics\u001b[39m=\u001b[39m[\u001b[39m'\u001b[39m\u001b[39maccuracy\u001b[39m\u001b[39m'\u001b[39m])\n\u001b[0;32m     29\u001b[0m \u001b[39m# Train the model\u001b[39;00m\n\u001b[1;32m---> 30\u001b[0m model\u001b[39m.\u001b[39mfit(X_train, y_train, epochs\u001b[39m=\u001b[39m\u001b[39m10\u001b[39m, validation_data\u001b[39m=\u001b[39m(X_test, y_test))\n",
      "\u001b[1;31mNameError\u001b[0m: name 'X_train' is not defined"
     ]
    }
   ],
   "source": [
    "\n"
   ]
  },
  {
   "cell_type": "code",
   "execution_count": 6,
   "metadata": {},
   "outputs": [
    {
     "name": "stdout",
     "output_type": "stream",
     "text": [
      "Found 261 images belonging to 3 classes.\n",
      "Found 11 images belonging to 3 classes.\n"
     ]
    }
   ],
   "source": [
    "from keras.preprocessing.image import ImageDataGenerator\n",
    "\n",
    "# create a data generator\n",
    "datagen = ImageDataGenerator(rescale=1./255, validation_split=0.2)\n",
    "\n",
    "# load and iterate training dataset\n",
    "train_it = datagen.flow_from_directory('/img_dataset/', \n",
    "                                       class_mode='categorical', \n",
    "                                       batch_size=64, \n",
    "                                       target_size=(64, 64),\n",
    "                                       subset='training')\n",
    "\n",
    "# load and iterate validation dataset\n",
    "val_it = datagen.flow_from_directory('/validation NP/', \n",
    "                                     class_mode='categorical', \n",
    "                                     batch_size=64, \n",
    "                                     target_size=(64, 64),\n",
    "                                     subset='validation')\n"
   ]
  },
  {
   "cell_type": "code",
   "execution_count": 18,
   "metadata": {},
   "outputs": [
    {
     "name": "stdout",
     "output_type": "stream",
     "text": [
      "Epoch 1/7\n",
      "5/5 [==============================] - 5s 1s/step - loss: 1.3579 - accuracy: 0.3180 - val_loss: 1.1448 - val_accuracy: 0.3636\n",
      "Epoch 2/7\n",
      "5/5 [==============================] - 4s 808ms/step - loss: 1.0498 - accuracy: 0.4521 - val_loss: 1.0430 - val_accuracy: 0.3636\n",
      "Epoch 3/7\n",
      "5/5 [==============================] - 4s 1s/step - loss: 0.8760 - accuracy: 0.7548 - val_loss: 0.9579 - val_accuracy: 0.6364\n",
      "Epoch 4/7\n",
      "5/5 [==============================] - 4s 833ms/step - loss: 0.6169 - accuracy: 0.9195 - val_loss: 0.8326 - val_accuracy: 0.6364\n",
      "Epoch 5/7\n",
      "5/5 [==============================] - 4s 803ms/step - loss: 0.3427 - accuracy: 0.9693 - val_loss: 0.7389 - val_accuracy: 0.6364\n",
      "Epoch 6/7\n",
      "5/5 [==============================] - 4s 808ms/step - loss: 0.2181 - accuracy: 0.9195 - val_loss: 0.7526 - val_accuracy: 0.2727\n",
      "Epoch 7/7\n",
      "5/5 [==============================] - 5s 866ms/step - loss: 0.0880 - accuracy: 1.0000 - val_loss: 0.6378 - val_accuracy: 0.6364\n"
     ]
    },
    {
     "data": {
      "text/plain": [
       "<keras.callbacks.History at 0x29014fa7990>"
      ]
     },
     "execution_count": 18,
     "metadata": {},
     "output_type": "execute_result"
    }
   ],
   "source": [
    "from keras.models import Sequential\n",
    "from keras.layers import Conv2D, MaxPooling2D, Flatten, Dense\n",
    "\n",
    "num_classes = 3  # You have 3 classes\n",
    "\n",
    "# Initialize the model\n",
    "model = Sequential()\n",
    "\n",
    "# Add a convolutional layer\n",
    "model.add(Conv2D(32, (3, 3), activation='relu', input_shape=(64, 64, 3)))\n",
    "model.add(MaxPooling2D(pool_size=(2, 2)))\n",
    "\n",
    "# Add another convolutional layer\n",
    "model.add(Conv2D(64, (3, 3), activation='relu'))\n",
    "model.add(MaxPooling2D(pool_size=(2, 2)))\n",
    "\n",
    "# Flatten the tensor output from the previous layer\n",
    "model.add(Flatten())\n",
    "\n",
    "# Add a fully-connected layer\n",
    "model.add(Dense(128, activation='relu'))\n",
    "\n",
    "# Add the output layer\n",
    "model.add(Dense(num_classes, activation='softmax'))  # Number of output units should match number of classes\n",
    "\n",
    "# Compile the model\n",
    "model.compile(optimizer='adam', loss='categorical_crossentropy', metrics=['accuracy'])\n",
    "\n",
    "# Train the model\n",
    "model.fit(train_it, epochs=7, validation_data=val_it)\n"
   ]
  },
  {
   "cell_type": "code",
   "execution_count": 31,
   "metadata": {},
   "outputs": [
    {
     "name": "stdout",
     "output_type": "stream",
     "text": [
      "Epoch 1/15\n",
      "5/5 [==============================] - 8s 1s/step - loss: 1.2618 - accuracy: 0.3448 - val_loss: 1.1082 - val_accuracy: 0.3636\n",
      "Epoch 2/15\n",
      "5/5 [==============================] - 5s 860ms/step - loss: 1.1079 - accuracy: 0.3793 - val_loss: 1.1041 - val_accuracy: 0.2727\n",
      "Epoch 3/15\n",
      "5/5 [==============================] - 5s 850ms/step - loss: 1.0893 - accuracy: 0.3985 - val_loss: 1.0919 - val_accuracy: 0.3636\n",
      "Epoch 4/15\n",
      "5/5 [==============================] - 5s 852ms/step - loss: 1.0826 - accuracy: 0.3793 - val_loss: 1.1006 - val_accuracy: 0.2727\n",
      "Epoch 5/15\n",
      "5/5 [==============================] - 5s 910ms/step - loss: 1.0865 - accuracy: 0.3563 - val_loss: 1.0981 - val_accuracy: 0.2727\n",
      "Epoch 6/15\n",
      "5/5 [==============================] - 4s 828ms/step - loss: 1.0430 - accuracy: 0.5134 - val_loss: 1.0700 - val_accuracy: 0.2727\n",
      "Epoch 7/15\n",
      "5/5 [==============================] - 4s 842ms/step - loss: 1.0234 - accuracy: 0.4713 - val_loss: 1.0506 - val_accuracy: 0.2727\n",
      "Epoch 8/15\n",
      "5/5 [==============================] - 5s 842ms/step - loss: 0.9756 - accuracy: 0.5326 - val_loss: 1.0080 - val_accuracy: 0.2727\n",
      "Epoch 9/15\n",
      "5/5 [==============================] - 4s 834ms/step - loss: 0.9611 - accuracy: 0.5172 - val_loss: 0.9264 - val_accuracy: 0.3636\n",
      "Epoch 10/15\n",
      "5/5 [==============================] - 5s 968ms/step - loss: 0.9200 - accuracy: 0.5556 - val_loss: 1.1354 - val_accuracy: 0.2727\n",
      "Epoch 11/15\n",
      "5/5 [==============================] - 4s 1s/step - loss: 0.8483 - accuracy: 0.6398 - val_loss: 0.9094 - val_accuracy: 0.3636\n",
      "Epoch 12/15\n",
      "5/5 [==============================] - 5s 870ms/step - loss: 0.8193 - accuracy: 0.6398 - val_loss: 0.8744 - val_accuracy: 0.6364\n",
      "Epoch 13/15\n",
      "5/5 [==============================] - 5s 877ms/step - loss: 0.7837 - accuracy: 0.6398 - val_loss: 0.7708 - val_accuracy: 0.3636\n",
      "Epoch 14/15\n",
      "5/5 [==============================] - 5s 850ms/step - loss: 0.6639 - accuracy: 0.7088 - val_loss: 0.5836 - val_accuracy: 1.0000\n",
      "Epoch 15/15\n",
      "5/5 [==============================] - 5s 853ms/step - loss: 0.5100 - accuracy: 0.8161 - val_loss: 0.4481 - val_accuracy: 1.0000\n"
     ]
    },
    {
     "data": {
      "text/plain": [
       "<keras.callbacks.History at 0x29025aa3590>"
      ]
     },
     "execution_count": 31,
     "metadata": {},
     "output_type": "execute_result"
    }
   ],
   "source": [
    "import tensorflow as tf\n",
    "from tensorflow.keras.models import Sequential\n",
    "from tensorflow.keras.layers import Conv2D, MaxPooling2D, Flatten, Dense, Dropout\n",
    "\n",
    "num_classes = 3  # You have 3 classes\n",
    "\n",
    "# Initialize the model\n",
    "model = Sequential()\n",
    "\n",
    "# Add a convolutional layer\n",
    "model.add(Conv2D(32, (3, 3), activation='relu', input_shape=(64, 64, 3)))\n",
    "model.add(MaxPooling2D(pool_size=(2, 2)))\n",
    "model.add(Dropout(0.2))  # Dropout layer\n",
    "\n",
    "# Add another convolutional layer\n",
    "model.add(Conv2D(64, (3, 3), activation='relu'))\n",
    "model.add(MaxPooling2D(pool_size=(2, 2)))\n",
    "model.add(Dropout(0.2))  # Dropout layer\n",
    "\n",
    "# Add another convolutional layer\n",
    "model.add(Conv2D(128, (3, 3), activation='relu'))\n",
    "model.add(MaxPooling2D(pool_size=(2, 2)))\n",
    "model.add(Dropout(0.2))  # Dropout layer\n",
    "\n",
    "# Flatten the tensor output from the previous layer\n",
    "model.add(Flatten())\n",
    "\n",
    "# Add a fully-connected layer\n",
    "model.add(Dense(64, activation='relu'))  # Reduced the units from 128 to 64\n",
    "model.add(Dropout(0.5))  # Dropout layer\n",
    "\n",
    "# Add the output layer\n",
    "model.add(Dense(num_classes, activation='softmax'))  # Number of output units should match number of classes\n",
    "\n",
    "# Compile the model\n",
    "model.compile(optimizer='adam', loss='categorical_crossentropy', metrics=['accuracy'])\n",
    "\n",
    "# Train the model\n",
    "model.fit(train_it, epochs=15, validation_data=val_it)\n",
    "\n"
   ]
  },
  {
   "cell_type": "code",
   "execution_count": 32,
   "metadata": {},
   "outputs": [
    {
     "name": "stdout",
     "output_type": "stream",
     "text": [
      "Epoch 1/15\n",
      "5/5 [==============================] - 5s 855ms/step - loss: 1.1172 - accuracy: 0.3831 - val_loss: 1.1294 - val_accuracy: 0.2727\n",
      "Epoch 2/15\n",
      "5/5 [==============================] - 4s 729ms/step - loss: 0.9735 - accuracy: 0.5824 - val_loss: 1.1315 - val_accuracy: 0.0000e+00\n",
      "Epoch 3/15\n",
      "5/5 [==============================] - 4s 752ms/step - loss: 0.8105 - accuracy: 0.7510 - val_loss: 1.1250 - val_accuracy: 0.2727\n",
      "Epoch 4/15\n",
      "5/5 [==============================] - 4s 743ms/step - loss: 0.6309 - accuracy: 0.8851 - val_loss: 1.1129 - val_accuracy: 0.6364\n",
      "Epoch 5/15\n",
      "5/5 [==============================] - 4s 751ms/step - loss: 0.4690 - accuracy: 0.9540 - val_loss: 0.9784 - val_accuracy: 0.6364\n",
      "Epoch 6/15\n",
      "5/5 [==============================] - 4s 746ms/step - loss: 0.3048 - accuracy: 0.9885 - val_loss: 0.9869 - val_accuracy: 0.6364\n",
      "Epoch 7/15\n",
      "5/5 [==============================] - 4s 991ms/step - loss: 0.2281 - accuracy: 0.9962 - val_loss: 0.9294 - val_accuracy: 0.2727\n",
      "Epoch 8/15\n",
      "5/5 [==============================] - 4s 738ms/step - loss: 0.1533 - accuracy: 1.0000 - val_loss: 0.8343 - val_accuracy: 0.6364\n",
      "Epoch 9/15\n",
      "5/5 [==============================] - 4s 734ms/step - loss: 0.0980 - accuracy: 1.0000 - val_loss: 0.8913 - val_accuracy: 0.6364\n",
      "Epoch 10/15\n",
      "5/5 [==============================] - 4s 974ms/step - loss: 0.0642 - accuracy: 1.0000 - val_loss: 0.8702 - val_accuracy: 0.2727\n",
      "Epoch 11/15\n",
      "5/5 [==============================] - 4s 758ms/step - loss: 0.0446 - accuracy: 1.0000 - val_loss: 0.8839 - val_accuracy: 0.2727\n",
      "Epoch 12/15\n",
      "5/5 [==============================] - 4s 959ms/step - loss: 0.0321 - accuracy: 1.0000 - val_loss: 0.8342 - val_accuracy: 0.6364\n",
      "Epoch 13/15\n",
      "5/5 [==============================] - 4s 751ms/step - loss: 0.0259 - accuracy: 1.0000 - val_loss: 0.8397 - val_accuracy: 0.2727\n",
      "Epoch 14/15\n",
      "5/5 [==============================] - 4s 823ms/step - loss: 0.0180 - accuracy: 1.0000 - val_loss: 0.8995 - val_accuracy: 0.6364\n",
      "Epoch 15/15\n",
      "5/5 [==============================] - 4s 752ms/step - loss: 0.0153 - accuracy: 1.0000 - val_loss: 0.8247 - val_accuracy: 0.2727\n"
     ]
    },
    {
     "data": {
      "text/plain": [
       "<keras.callbacks.History at 0x290254e7f10>"
      ]
     },
     "execution_count": 32,
     "metadata": {},
     "output_type": "execute_result"
    }
   ],
   "source": [
    "import tensorflow as tf\n",
    "from tensorflow.keras.models import Sequential\n",
    "from tensorflow.keras.layers import Conv2D, MaxPooling2D, Flatten, Dense\n",
    "\n",
    "num_classes = 3  # You have 3 classes\n",
    "\n",
    "# Initialize the model\n",
    "model = Sequential()\n",
    "\n",
    "# Add a convolutional layer\n",
    "model.add(Conv2D(8, (3, 3), activation='relu', input_shape=(64, 64, 3))) # reduced filters to 8\n",
    "model.add(MaxPooling2D(pool_size=(2, 2)))\n",
    "\n",
    "# Flatten the tensor output from the previous layer\n",
    "model.add(Flatten())\n",
    "\n",
    "# Add a fully-connected layer\n",
    "model.add(Dense(16, activation='relu')) # reduced units to 16\n",
    "\n",
    "# Add the output layer\n",
    "model.add(Dense(num_classes, activation='softmax'))  # Number of output units should match number of classes\n",
    "\n",
    "# Compile the model\n",
    "model.compile(optimizer='adam', loss='categorical_crossentropy', metrics=['accuracy'])\n",
    "\n",
    "# Train the model\n",
    "model.fit(train_it, epochs=15, validation_data=val_it)\n"
   ]
  },
  {
   "cell_type": "code",
   "execution_count": 33,
   "metadata": {},
   "outputs": [],
   "source": [
    "from tensorflow.keras.preprocessing.image import load_img, img_to_array\n"
   ]
  },
  {
   "cell_type": "code",
   "execution_count": 35,
   "metadata": {},
   "outputs": [
    {
     "name": "stdout",
     "output_type": "stream",
     "text": [
      "1/1 [==============================] - 0s 65ms/step\n",
      "[[0.6833437  0.30006808 0.01658824]]\n"
     ]
    }
   ],
   "source": [
    "# Load the image\n",
    "img = load_img('/img_dataset/1/10 - Copy (2).jpeg', target_size=(64, 64))\n",
    "\n",
    "# Convert the image to an array\n",
    "img = img_to_array(img)\n",
    "\n",
    "# Scale the image pixels by 255\n",
    "img = img/255\n",
    "\n",
    "# Reshape the data for the model\n",
    "img = img.reshape(1, 64, 64, 3)\n",
    "\n",
    "# Make a prediction\n",
    "classes = model.predict(img)\n",
    "\n",
    "# Print the prediction\n",
    "print(classes)\n"
   ]
  },
  {
   "cell_type": "code",
   "execution_count": 37,
   "metadata": {},
   "outputs": [
    {
     "name": "stdout",
     "output_type": "stream",
     "text": [
      "Predicted class index: 0\n"
     ]
    }
   ],
   "source": [
    "import numpy as np\n",
    "\n",
    "# Get the class with highest probability\n",
    "class_index = np.argmax(classes)\n",
    "\n",
    "print(\"Predicted class index:\", class_index)"
   ]
  },
  {
   "cell_type": "code",
   "execution_count": 39,
   "metadata": {},
   "outputs": [
    {
     "name": "stdout",
     "output_type": "stream",
     "text": [
      "1/1 [==============================] - 0s 27ms/step\n"
     ]
    },
    {
     "data": {
      "image/png": "[encoded data removed]",
      "text/plain": [
       "<Figure size 640x480 with 2 Axes>"
      ]
     },
     "metadata": {},
     "output_type": "display_data"
    }
   ],
   "source": [
    "import matplotlib.pyplot as plt\n",
    "import numpy as np\n",
    "from tensorflow.keras.preprocessing.image import load_img, img_to_array\n",
    "\n",
    "# Load the image\n",
    "img = load_img('/img_dataset/1/10 - Copy (2).jpeg', target_size=(64, 64))\n",
    "\n",
    "# Convert the image to an array\n",
    "img_array = img_to_array(img)\n",
    "\n",
    "# Scale the image pixels\n",
    "img_array_scaled = img_array/255\n",
    "\n",
    "# Reshape the data for the model\n",
    "img_ready = img_array_scaled.reshape(1, 64, 64, 3)\n",
    "\n",
    "# Make a prediction\n",
    "classes = model.predict(img_ready)\n",
    "\n",
    "# Get the class with the highest probability\n",
    "class_index = np.argmax(classes)\n",
    "\n",
    "# Display the input image\n",
    "plt.subplot(1, 2, 1)\n",
    "plt.imshow(img)\n",
    "plt.title('Input Image')\n",
    "\n",
    "# Display the prediction\n",
    "plt.subplot(1, 2, 2)\n",
    "plt.text(0.5, 0.5, f'Predicted Class: {class_index}', fontsize=12, ha='center')\n",
    "plt.axis('off')\n",
    "plt.title('Prediction')\n",
    "\n",
    "plt.show()\n"
   ]
  },
  {
   "cell_type": "code",
   "execution_count": null,
   "metadata": {},
   "outputs": [],
   "source": [
    "Ah, I see. The Convolutional Neural Network (CNN) architecture I suggested is a basic model which has been successful for a variety of image recognition tasks. It's often used as a baseline or starting point. The structure is simple and effective for tasks that involve recognizing patterns in images, such as identifying license plates.\n",
    "Here's why this architecture could be a good starting point for your task:\n",
    "Pattern Recognition: CNNs are excellent at recognizing patterns in images. The convolution and pooling layers will be able to detect shapes, lines, and other patterns in the license plates.\n",
    "Size and Complexity: The provided model isn't overly large or complex, which makes it a good starting point. It can run on modest hardware without much delay, making it easier for you to start testing and iterating on your solution.\n",
    "Adjustability: This model is also easy to expand or reduce based on your needs. If your task is more complex or the provided model isn't providing satisfactory results, you can easily add more layers or adjust the number of neurons in the existing layers.\n",
    "Generalization: The architecture generalizes well, meaning it can perform well on unseen data (provided it is of the same nature as the training data).\n",
    "That said, there's no one-size-fits-all model in machine learning. The architecture I provided is a good starting point, but depending on the specifics of your task and data, you might need to adjust it or even switch to a different architecture entirely. For instance, if your dataset is very large and complex, you might benefit from a larger, more complex model such as ResNet or Inception.\n",
    "Another important aspect to note is that a lot depends on how the data is preprocessed and fed to the network. For license plate recognition, you'd typically need to include steps to localize the license plate in the image and possibly segment the individual characters for recognition. In such a case, a combination of CNN for character recognition and some form of segmentation algorithm may be needed. The architecture I provided is primarily for the character recognition task in such a pipeline."
   ]
  }
 ],
 "metadata": {
  "kernelspec": {
   "display_name": "cv",
   "language": "python",
   "name": "python3"
  },
  "language_info": {
   "codemirror_mode": {
    "name": "ipython",
    "version": 3
   },
   "file_extension": ".py",
   "mimetype": "text/x-python",
   "name": "python",
   "nbconvert_exporter": "python",
   "pygments_lexer": "ipython3",
   "version": "3.11.1"
  },
  "orig_nbformat": 4
 },
 "nbformat": 4,
 "nbformat_minor": 2
}
